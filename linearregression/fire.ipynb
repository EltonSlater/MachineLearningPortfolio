{
    "cells": [
        {
            "attachments": {},
            "cell_type": "markdown",
            "metadata": {},
            "source": [
                "<h1>Linear Regressioon</h1>\n",
                "<p>this project uses linear regression to predict the FFMC of aa forest fire will burn</p> <p>linear regression is a form of supervised learning where correlations are represented between independant variables with a line using the formula <i>mx + b</i> so points without data on the line can be predicted </p>"
            ]
        },
        {
            "cell_type": "code",
            "execution_count": 97,
            "metadata": {},
            "outputs": [],
            "source": [
                "#importing libraries\n",
                "import pandas as pd\n",
                "import numpy as np\n",
                "import sklearn\n",
                "import matplotlib.pyplot as pyplot\n",
                "import pickle\n",
                "from sklearn import linear_model\n",
                "from sklearn.utils import shuffle\n",
                "from matplotlib import style"
            ]
        },
        {
            "cell_type": "code",
            "execution_count": 98,
            "metadata": {},
            "outputs": [
                {
                    "name": "stdout",
                    "output_type": "stream",
                    "text": [
                        "   X  Y month  day  FFMC   DMC     DC  ISI  temp  RH  wind  rain  area\n",
                        "0  7  5   mar  fri  86.2  26.2   94.3  5.1   8.2  51   6.7   0.0   0.0\n",
                        "1  7  4   oct  tue  90.6  35.4  669.1  6.7  18.0  33   0.9   0.0   0.0\n",
                        "2  7  4   oct  sat  90.6  43.7  686.9  6.7  14.6  33   1.3   0.0   0.0\n",
                        "3  8  6   mar  fri  91.7  33.3   77.5  9.0   8.3  97   4.0   0.2   0.0\n",
                        "4  8  6   mar  sun  89.3  51.3  102.2  9.6  11.4  99   1.8   0.0   0.0\n",
                        "   X  FFMC   DMC     DC  ISI  RH  temp  wind  rain  area\n",
                        "0  7  86.2  26.2   94.3  5.1  51   8.2   6.7   0.0   0.0\n",
                        "1  7  90.6  35.4  669.1  6.7  33  18.0   0.9   0.0   0.0\n",
                        "2  7  90.6  43.7  686.9  6.7  33  14.6   1.3   0.0   0.0\n",
                        "3  8  91.7  33.3   77.5  9.0  97   8.3   4.0   0.2   0.0\n",
                        "4  8  89.3  51.3  102.2  9.6  99  11.4   1.8   0.0   0.0\n"
                    ]
                }
            ],
            "source": [
                "#using pandas to find atriubutes\n",
                "data = pd.read_csv(\"forestfires.csv\")\n",
                "print(data.head())\n",
                "\n",
                "#keeps only the relevant data from the csv for training\n",
                "data = data[[\"X\",\"FFMC\",\"DMC\",\"DC\",\"ISI\", \"RH\", \"temp\", \"wind\", \"rain\",\"area\"]]\n",
                "print(data.head())"
            ]
        },
        {
            "cell_type": "code",
            "execution_count": 99,
            "metadata": {},
            "outputs": [],
            "source": [
                "predict= \"FFMC\"\n",
                "x = np.array(data.drop(predict, axis=1))\n",
                "y = np.array(data[predict])"
            ]
        },
        {
            "attachments": {},
            "cell_type": "markdown",
            "metadata": {},
            "source": [
                "<p>this line seperates the training data into what will be used for training and what will be used to verify how accurate the training is by comparing the prediction and the actual data. the data is split randomly on every run so so</p>"
            ]
        },
        {
            "cell_type": "code",
            "execution_count": 100,
            "metadata": {},
            "outputs": [],
            "source": [
                "x_train, x_test, y_train, y_test = sklearn.model_selection.train_test_split(x, y, test_size=0.1)"
            ]
        },
        {
            "attachments": {},
            "cell_type": "markdown",
            "metadata": {},
            "source": [
                "<p>this block of code contains the actual training and creation of the model</p>"
            ]
        },
        {
            "cell_type": "code",
            "execution_count": 101,
            "metadata": {},
            "outputs": [
                {
                    "name": "stdout",
                    "output_type": "stream",
                    "text": [
                        "0.2775312324537913\n"
                    ]
                }
            ],
            "source": [
                "#creates a linear regression object\n",
                "linear = linear_model.LinearRegression()\n",
                "\n",
                "# # Define the line of best fit\n",
                "linear.fit(x_train, y_train)\n",
                "\n",
                "#prints the accuracy of the model as a percentage in decimal form\n",
                "acc = linear.score(x_test, y_test)\n",
                "print(acc)"
            ]
        },
        {
            "attachments": {},
            "cell_type": "markdown",
            "metadata": {},
            "source": [
                "<p>this isnt necassary to the actual model but saves on processing by saving the final model to a .pickle file so it can be reused later without haveing to run it again. if the full code is run again it will update the file with the new model</p>"
            ]
        },
        {
            "cell_type": "code",
            "execution_count": 102,
            "metadata": {},
            "outputs": [
                {
                    "name": "stdout",
                    "output_type": "stream",
                    "text": [
                        "Coefficient: \n",
                        " [-7.27578736e-03  1.76104363e-02  1.28590772e-03  5.00413522e-01\n",
                        " -6.73837213e-02 -2.62172552e-02 -2.47917664e-01  6.51437195e-01\n",
                        "  4.61845514e-04]\n",
                        "Intercept: \n",
                        " 88.03608013018928\n",
                        "95.03498201885357 [3.000e+00 1.573e+02 6.667e+02 1.350e+01 4.000e+01 2.170e+01 4.000e-01\n",
                        " 0.000e+00 2.470e+00] 93.1\n",
                        "87.51445547031256 [ 6.  37.6 83.7  7.2 54.  12.4  3.6  0.  12.1] 90.1\n",
                        "91.5281245284813 [  3.  248.4 753.8   6.3  56.   16.8   3.1   0.    0. ] 91.6\n",
                        "92.08487561248192 [  8.   81.8 480.8  11.9  34.   20.1   4.5   0.   58.3] 92.2\n",
                        "95.67686231171429 [  8.    80.9  685.2   17.9   26.    23.2    4.9    0.    23.41] 93.7\n",
                        "89.63663107095462 [  4.  114.3 661.3   6.3  45.   17.6   3.6   0.    0. ] 91.7\n",
                        "90.37362182330952 [  1.    87.7  721.1    9.5   54.    18.1    3.1    0.     2.13] 92.1\n",
                        "95.01187820006453 [  4.  152.  624.1  13.8  21.   32.4   4.5   0.    0. ] 95.8\n",
                        "93.34528561115752 [  2.   231.1  715.1    8.4   42.    21.9    2.2    0.   174.63] 93.7\n",
                        "88.29789504159193 [  7.   88.  698.6   7.1  51.   17.8   7.2   0.    0. ] 92.5\n",
                        "97.14697481407669 [  7.  139.4 594.2  20.3  32.   23.7   5.8   0.    0. ] 93.5\n",
                        "87.3447243804998 [  8.    90.   704.4    4.8   67.    17.8    2.2    0.     2.01] 89.7\n",
                        "85.80731348242396 [ 7.  26.2 94.3  5.1 51.   8.2  6.7  0.   0. ] 86.2\n",
                        "93.32090945988845 [  4.   132.3  812.1   12.5   38.    15.9    5.4    0.     1.75] 91.1\n",
                        "91.77782240040213 [  1.  102.3 751.5   8.4  27.   24.2   3.1   0.    0. ] 92.2\n",
                        "92.85000627060546 [  2.  117.9 668.   12.2  37.   23.    4.5   0.    0. ] 92.4\n",
                        "93.8406452144816 [  4.  108.3 647.1  17.   54.   16.6   5.4   0.    0. ] 94.8\n",
                        "90.38263897181702 [ 3.  33.3 77.5  9.  18.  18.8  4.5  0.   0. ] 91.7\n",
                        "83.6343221788739 [ 7.    3.2  43.6   3.3  53.    8.2   9.4   0.    4.62] 84.6\n",
                        "92.55209962826723 [  1.  146.  614.7  11.3  42.   25.6   4.    0.    0. ] 94.4\n",
                        "91.97456787626186 [  6.  131.7 578.8  10.4  41.   20.3   4.    0.    1.9] 95.2\n",
                        "92.74220616800746 [  6.   117.9  668.    12.2   33.    19.6    6.3    0.    19.23] 92.4\n",
                        "93.10283638266567 [  2.   131.7  578.8   10.4   28.    24.2    2.7    0.     8.68] 95.2\n",
                        "95.54511006201432 [  3.  160.  567.2  16.7  48.   17.9   2.7   0.    0. ] 94.6\n",
                        "89.45881582021734 [6.000e+00 1.669e+02 7.526e+02 7.100e+00 6.200e+01 1.820e+01 5.400e+00\n",
                        " 0.000e+00 4.300e-01] 91.0\n",
                        "91.66671456317265 [  4.  266.2 803.3   5.6  54.   17.4   3.1   0.    0. ] 89.4\n",
                        "93.36964570581627 [  7.  231.1 715.1   8.4  33.   26.4   3.6   0.    0. ] 93.7\n",
                        "98.25279768253301 [  2.   135.5  596.3   21.3   28.    30.6    3.6    0.     2.07] 95.0\n",
                        "93.55353285828977 [  7.  181.1 671.2  14.3  65.   21.6   4.9   0.8   0. ] 96.1\n",
                        "86.09117700037652 [  8.   32.8 664.2   3.   47.   16.7   4.9   0.    0. ] 84.9\n",
                        "88.42806765091831 [  8.   37.9 673.8   5.2  37.   20.2   2.7   0.   13.7] 91.4\n",
                        "93.13123863405879 [  5.  235.1 723.1  10.1  50.   24.1   4.    0.    0. ] 93.6\n",
                        "90.81339111727254 [  3.    96.7  750.5   11.4   55.    20.6    5.4    0.    24.59] 90.5\n",
                        "91.03059469071611 [  4.  111.2 654.1   9.6  42.   20.4   4.9   0.    0. ] 92.1\n",
                        "90.99980174849355 [  2.   130.1  807.1    7.5   43.    16.8    3.1    0.     5.83] 91.5\n",
                        "88.75424512822255 [ 7.   39.7  86.6   6.2  29.   16.1   3.1   0.    1.75] 90.1\n",
                        "87.44871442568615 [ 4.  23.9 64.7  4.1 35.  11.8  1.8  0.   0. ] 87.2\n",
                        "90.56978030966062 [  3.  124.1 680.7   8.5  42.   22.5   5.4   0.    0. ] 92.4\n",
                        "91.92690240647418 [  8.   191.4  635.9    7.8   36.    26.2    4.5    0.   185.76] 91.7\n",
                        "96.02948679945925 [  2.   108.3  647.1   17.    22.    24.6    4.5    0.    10.01] 94.8\n",
                        "91.69756789925299 [  7.  104.2 474.9   9.   32.   24.2   1.8   0.    0. ] 91.6\n",
                        "92.79913507412378 [  7.   117.9  668.    12.2   34.    19.     5.8    0.     1.69] 92.4\n",
                        "89.20330932726982 [ 8.  35.8 80.8  7.8 24.  17.4  5.4  0.   0. ] 91.7\n",
                        "88.15082979530273 [  7.    82.9  735.7    6.2   57.    15.4    4.5    0.    37.71] 90.1\n",
                        "83.94824481507527 [ 7.   3.   7.9  3.5 75.  13.4  1.8  0.   0. ] 81.9\n",
                        "93.5231749016233 [  8.   207.   672.6    8.2   29.    25.5    1.8    0.     1.23] 92.1\n",
                        "87.12259175088121 [ 6.   15.1  36.9   7.1  45.   10.2   5.8   0.    3.18] 87.2\n",
                        "88.73429324210052 [ 3.  17.3 28.3  9.9 35.   8.9  8.   0.   0. ] 93.4\n",
                        "89.34320781212524 [  3.   94.1 232.1   7.1  38.   19.2   4.5   0.    0. ] 91.1\n",
                        "93.0778579791496 [  1.   276.3  825.1    7.1   43.    21.9    4.     0.    70.76] 91.0\n",
                        "81.14892529303971 [  4.    1.1 171.4   0.  100.    5.2   0.9   0.    0. ] 18.7\n",
                        "91.94278048509285 [  2.   235.1  723.1   10.1   66.    20.9    4.9    0.    15.34] 93.6\n"
                    ]
                }
            ],
            "source": [
                "with open(\"firemodel.pickle\", \"wb\") as f:\n",
                "    pickle.dump(linear, f)\n",
                "\n",
                "# Load the pickle file\n",
                "pickle_in = open(\"firemodel.pickle\", \"rb\")\n",
                "linear = pickle.load(pickle_in)\n",
                "\n",
                "print('Coefficient: \\n', linear.coef_)\n",
                "print('Intercept: \\n', linear.intercept_)\n",
                "\n",
                "predictions = linear.predict(x_test)\n",
                "\n",
                "for x in range(len(predictions)):\n",
                "    print(predictions[x], x_test[x], y_test[x]) "
            ]
        },
        {
            "attachments": {},
            "cell_type": "markdown",
            "metadata": {},
            "source": [
                "<p>uses matplotlib to graph the model</p>"
            ]
        },
        {
            "cell_type": "code",
            "execution_count": 103,
            "metadata": {},
            "outputs": [
                {
                    "data": {
                        "image/png": "[encoded data removed]",
                        "text/plain": [
                            "<Figure size 640x480 with 1 Axes>"
                        ]
                    },
                    "metadata": {},
                    "output_type": "display_data"
                }
            ],
            "source": [
                "style.use(\"ggplot\")\n",
                "\n",
                "pyplot.scatter(predictions, y_test)\n",
                "pyplot.xlabel(\"prediction\")\n",
                "pyplot.ylabel(\"actual FFMC\")\n",
                "pyplot.show()"
            ]
        }
    ],
    "metadata": {
        "kernelspec": {
            "display_name": "Python 3 (ipykernel)",
            "language": "python",
            "name": "python3"
        }
    },
    "nbformat": 4,
    "nbformat_minor": 2
}
